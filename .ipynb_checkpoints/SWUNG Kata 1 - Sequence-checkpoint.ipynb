{
 "cells": [
  {
   "cell_type": "code",
   "execution_count": 10,
   "metadata": {},
   "outputs": [
    {
     "name": "stdout",
     "output_type": "stream",
     "text": [
      "# Sequence\n",
      "\n",
      "You have a string of lithology codes, reading from the **bottom up** of a geological section. There is a sample every metre. There are three lithologies:\n",
      "\n",
      "- **M**udstone\n",
      "- **F**ine sandstone or siltstone\n",
      "- **S**andstone\n",
      "\n",
      "The strings look like this:\n",
      "\n",
      "      ...MFFSSFSSSS...\n",
      "\n",
      "Your data, when you receive it, will be much longer than this.\n",
      "\n",
      "We need to get some geological information from this string of codes. Specifically, you need to answer 3 questions:\n",
      "\n",
      "1. What is the total thickess in metres of sandstone (`S`)? Each sample represents one metre.\n",
      "2. How many sandstone beds are there? A bed is a contiguous group of one lithology, so `MMFFF` is 2 beds, one of `M` and one of `F`.\n",
      "3. How many times does the most common *upwards* bed transition occur? Do not include transitions from a lithology to itself.\n",
      "\n",
      "Remember that the sequence is given to you from the bottom up. So an upwards transition is equivalent to a transition to the right.\n",
      "\n",
      "\n",
      "## Example\n",
      "\n",
      "Here is some example input:\n",
      "\n",
      "      SSMMFFFFFFFFSSMFFSSFSSSSFMFSSSSFFSSFFFMM\n",
      "      ^^          ^^   ^^ ^^^^   ^^^^  ^^\n",
      "\n",
      "And the answers to the 3 questions:\n",
      "\n",
      "- In this example, the total thickess of sandstone is 16 m. So the required answer is: **16**\n",
      "- There are 6 sandstone beds in the sequence (marked above). The answer is: **6**\n",
      "- The most common bed transition is `F` to `S`, which occurs 5 times. So the answer is: **5**\n",
      "\n",
      "\n",
      "## A quick reminder how this works\n",
      "\n",
      "You can retrieve your data by choosing any Python string as a **`<KEY>`** and substituting here:\n",
      "    \n",
      "    https://kata.geosci.ai/challenge/sequence?key=<KEY>\n",
      "                                                  ^^^^^\n",
      "                                                  use your own string here\n",
      "\n",
      "To answer question 1, make a request like:\n",
      "\n",
      "    https://kata.geosci.ai/challenge/sequence?key=<KEY>&question=1&answer=1234\n",
      "                                                  ^^^^^          ^        ^^^^\n",
      "                                                  your key       Q        your answer\n",
      "\n",
      "[Complete instructions at kata.geosci.ai](https://kata.geosci.ai/challenge)\n",
      "\n",
      "----\n",
      "\n",
      "© 2020 Agile Scientific, licensed CC-BY\n"
     ]
    }
   ],
   "source": [
    "# Get the first challenge:\n",
    "\n",
    "import requests\n",
    "\n",
    "url = 'https://kata.geosci.ai/challenge/sequence'  # <--- In week 2, you'll change the name\n",
    "r = requests.get(url)\n",
    "print(r.text)\n"
   ]
  },
  {
   "cell_type": "code",
   "execution_count": 11,
   "metadata": {},
   "outputs": [],
   "source": [
    "# Get the challenge text\n",
    "\n",
    "key = 'grajohnt'\n",
    "qurl = 'https://kata.geosci.ai/challenge/sequence?key='+key \n",
    "r = requests.get(qurl)\n",
    "beds = r.text\n",
    "#print(beds)\n"
   ]
  },
  {
   "cell_type": "code",
   "execution_count": 12,
   "metadata": {},
   "outputs": [
    {
     "data": {
      "text/plain": [
       "5754"
      ]
     },
     "execution_count": 12,
     "metadata": {},
     "output_type": "execute_result"
    }
   ],
   "source": [
    "question = 1\n",
    "# 1. What is the total thickess in metres of sandstone (`S`)? Each sample represents one metre.\n",
    "\n",
    "r.text.count(\"S\")"
   ]
  },
  {
   "cell_type": "code",
   "execution_count": 13,
   "metadata": {},
   "outputs": [
    {
     "name": "stdout",
     "output_type": "stream",
     "text": [
      "https://kata.geosci.ai/challenge/sequence?key=grajohnt&question=1&answer=5754\n",
      "Correct\n"
     ]
    }
   ],
   "source": [
    "# Submit\n",
    "\n",
    "aurl = qurl+'&question='+str(question)+'&answer='+str(r.text.count(\"S\"))\n",
    "print(aurl)\n",
    "r = requests.get(aurl)\n",
    "print(r.text)"
   ]
  },
  {
   "cell_type": "code",
   "execution_count": 14,
   "metadata": {},
   "outputs": [
    {
     "name": "stdout",
     "output_type": "stream",
     "text": [
      "2330\n"
     ]
    }
   ],
   "source": [
    "question = 2\n",
    "# 2. How many sandstone beds are there? A bed is a contiguous group of one lithology,\n",
    "#  so `MMFFF` is 2 beds, one of `M` and one of `F`.\n",
    "\n",
    "# Easily solved with a simple regex match\n",
    "\n",
    "import re\n",
    "pattern = \"S+\"\n",
    "nbeds = len(re.findall(pattern,beds))\n",
    "print(nbeds)"
   ]
  },
  {
   "cell_type": "code",
   "execution_count": 15,
   "metadata": {},
   "outputs": [
    {
     "name": "stdout",
     "output_type": "stream",
     "text": [
      "https://kata.geosci.ai/challenge/sequence?key=grajohnt&question=2&answer=2330\n",
      "Correct\n"
     ]
    }
   ],
   "source": [
    "# Submit\n",
    "\n",
    "aurl = qurl+'&question='+str(question)+'&answer='+str(nbeds) \n",
    "print(aurl)\n",
    "r = requests.get(aurl)\n",
    "print(r.text)"
   ]
  },
  {
   "cell_type": "code",
   "execution_count": 16,
   "metadata": {},
   "outputs": [
    {
     "name": "stdout",
     "output_type": "stream",
     "text": [
      "dict_keys(['FS', 'SF', 'FM', 'MF', 'SM', 'MS'])\n",
      "dict_values([1958, 1002, 1324, 2279, 1327, 372])\n"
     ]
    }
   ],
   "source": [
    "question = 3\n",
    "# 3. How many times does the most common *upwards* bed transition occur? Do not include transitions from a lithology to itself.\n",
    "\n",
    "\n",
    "# Requires somewhat advanced regex-fu, and regex module instead of re\n",
    "\n",
    "from collections import Counter\n",
    "import regex\n",
    "\n",
    "# This matches the boundaries between beds by matching S[not S] or M[not M] or F[not F]\n",
    "#  This match must be overlapped to catch all transitions, other wise SFS would match 'SF', but not 'FS'\n",
    "\n",
    "pattern = \"S[^S]|M[^M]|F[^F]\"\n",
    "transitions = regex.findall(pattern,beds,overlapped=True)\n",
    "\n",
    "# Use Counter to see how many there are of each type, and then find the max\n",
    "\n",
    "print(Counter(transitions).keys())\n",
    "print(Counter(transitions).values())\n",
    "maxtrans = max(Counter(transitions).values())"
   ]
  },
  {
   "cell_type": "code",
   "execution_count": 17,
   "metadata": {},
   "outputs": [
    {
     "name": "stdout",
     "output_type": "stream",
     "text": [
      "https://kata.geosci.ai/challenge/sequence?key=grajohnt&question=3&answer=2279\n",
      "Correct! The next challenge is: https://kata.geosci.ai/challenge/boreholes - good luck!\n"
     ]
    }
   ],
   "source": [
    "# Submit\n",
    "\n",
    "aurl = qurl+'&question='+str(question)+'&answer='+str(maxtrans)  # <--- In week 2, you'll change the name\n",
    "print(aurl)\n",
    "\n",
    "r = requests.get(aurl)\n",
    "print(r.text)"
   ]
  }
 ],
 "metadata": {
  "kernelspec": {
   "display_name": "Python 3",
   "language": "python",
   "name": "python3"
  },
  "language_info": {
   "codemirror_mode": {
    "name": "ipython",
    "version": 3
   },
   "file_extension": ".py",
   "mimetype": "text/x-python",
   "name": "python",
   "nbconvert_exporter": "python",
   "pygments_lexer": "ipython3",
   "version": "3.8.0"
  }
 },
 "nbformat": 4,
 "nbformat_minor": 4
}
