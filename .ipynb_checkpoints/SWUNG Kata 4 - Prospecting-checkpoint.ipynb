{
 "cells": [
  {
   "cell_type": "code",
   "execution_count": 266,
   "metadata": {},
   "outputs": [
    {
     "name": "stdout",
     "output_type": "stream",
     "text": [
      "# Prospecting\n",
      "\n",
      "We have 5 arrays of 4096 elements each. Each array represents a map as a 'raster' with 64 &times; 64 = 4096 pixels, and is given as a row in the dataset. Each pixel is represented by a single integer, taking values from 0 to 8.\n",
      "\n",
      "The maps represent different things. In order, they are:\n",
      "\n",
      "1. Reliability of well data.\n",
      "2. Reliability of seismic data.\n",
      "3. Porosity from wells and conceptual models.\n",
      "4. Fracture density from wells and seismic.\n",
      "5. Our land position (1 denotes 'our land').\n",
      "\n",
      "We need to answer the following questions:\n",
      "\n",
      "1. How many pixels have zero total reliability?\n",
      "2. How many pixels are predicted to have better than 50th percentile (P50) porosity and better than P50 fracture density?\n",
      "3. How many of these pixels have non-zero reliability and are on our land? These blobs are our _prospects_.\n",
      "4. Find the product of the (x, y) coordinates of the cell containing the centre of mass of the largest _prospect_ blob.\n",
      "\n",
      "For question 4, a centre of mass at (3.4, 12.6) is in the cell (3, 12) and you would respond with 3 &times; 12 = **36**.\n",
      "\n",
      "We'll consider blobs to be connected if they have directly neighbouring pixels. In example A, below, there are 3 'blobs' of one pixel each. In example B there are 2 blobs, each with three pixels.\n",
      "\n",
      "      A        B\n",
      "    1 0 1    1 1 0\n",
      "    0 1 0    1 0 1\n",
      "    0 0 0    0 1 1\n",
      "\n",
      "\n",
      "## Example\n",
      "\n",
      "Here is a dataset of smaller maps. Every row represents a map, each 3 &times 3 pixels:\n",
      "\n",
      "    example = \"\"\"0,1,0,1,2,1,0,1,0\n",
      "                 2,1,0,1,1,1,0,1,0\n",
      "                 0,1,2,1,3,1,1,2,2\n",
      "                 0,2,1,2,3,1,1,3,2\n",
      "                 1,1,1,1,1,1,0,0,0\"\"\"\n",
      "\n",
      "If we re-shaped each row to make a 3 &times; 3 map, the maps would look like:\n",
      "\n",
      "      1       2       3       4       5    <--- map number\n",
      "    0 1 0   2 1 0   0 1 2   0 2 1   1 1 1\n",
      "    1 2 1   1 1 1   1 3 1   2 3 1   1 1 1\n",
      "    0 1 0   0 1 0   1 2 2   1 3 2   0 0 0   \n",
      "\n",
      "Here's how we might answer the questions:\n",
      "\n",
      "1. There are **3** pixels with zeros in both of the reliability maps (the first two maps).\n",
      "1. The P50 values on maps 3 and 4 are 1 and 2 respectively. There are **2** pixels that are higher on both maps.\n",
      "1. Of those pixels, **1** has non-zero reliability and is on our land (map 5).\n",
      "1. The coordinates of that pixels are (1, 1) so the product of those coordinates is **1**.\n",
      "\n",
      "\n",
      "## Hints\n",
      "\n",
      "It's likely that the `scipy.ndimage.measurements` module will be useful in answering question 4. For example, if you have an array `arr` like:\n",
      "\n",
      "    0 1 1\n",
      "    0 0 0\n",
      "    1 0 0\n",
      "\n",
      "Then `scipy.ndimage.measurements.label()` will return two things: the labels and the number 2 (meaning it found 2 objects). The labels have the same shape as the original 'map':\n",
      "\n",
      "    0 1 1   <--- 1 denotes 'object 1'\n",
      "    0 0 0   <--- 0 denotes 'background', i.e. no objects\n",
      "    2 0 0   <--- 2 denotes 'object 2'\n",
      "\n",
      "Once you have labels, you can get the centre of mass of the object labelled `3` with `scipy.ndimage.measurements.center_of_mass(arr, labels, 3)`.\n",
      "\n",
      "We will use the default behaviour of the `scipy.ndimage.measurements.label()` function to decide if things are separate objects.\n",
      "\n",
      "\n",
      "## A quick reminder how this works\n",
      "\n",
      "You can retrieve your data by choosing any Python string as a **`<KEY>`** and substituting here:\n",
      "    \n",
      "    https://kata.geosci.ai/challenge/prospecting?key=<KEY>\n",
      "                                                     ^^^^^\n",
      "                                                     use your own string here\n",
      "\n",
      "To answer question 1, make a request like:\n",
      "\n",
      "    https://kata.geosci.ai/challenge/prospecting?key=<KEY>&question=1&answer=1234\n",
      "                                                     ^^^^^          ^        ^^^^\n",
      "                                                     your key       Q        your answer\n",
      "\n",
      "[Complete instructions at kata.geosci.ai](https://kata.geosci.ai/challenge)\n",
      "\n",
      "----\n",
      "\n",
      "© 2020 Agile Scientific, licensed CC-BY\n"
     ]
    }
   ],
   "source": [
    "import requests\n",
    "\n",
    "url = 'https://kata.geosci.ai/challenge/prospecting'\n",
    "r = requests.get(url)\n",
    "print(r.text)\n"
   ]
  },
  {
   "cell_type": "code",
   "execution_count": 267,
   "metadata": {},
   "outputs": [],
   "source": [
    "key = 'grajohnt'\n",
    "qurl = 'https://kata.geosci.ai/challenge/prospecting?key='+key \n",
    "r = requests.get(qurl)\n",
    "raw = r.text\n",
    "#print(raw)"
   ]
  },
  {
   "cell_type": "code",
   "execution_count": 268,
   "metadata": {
    "scrolled": true
   },
   "outputs": [
    {
     "data": {
      "text/plain": [
       "134"
      ]
     },
     "execution_count": 268,
     "metadata": {},
     "output_type": "execute_result"
    }
   ],
   "source": [
    "question = 1\n",
    "# 1. How many pixels have zero total reliability?\n",
    "\n",
    "# Let's use numpy...\n",
    "import numpy as np\n",
    "\n",
    "# Create an empty numpy array in the shape we want - n images of 64 by 64 pixels\n",
    "ras = np.empty((0,64,64),int)\n",
    "\n",
    "# Read the text line by line, splitting on commas, and reshaping into a 64x64 (x1) array\n",
    "#  then append it as a new 'image' in our file\n",
    "for line in raw.splitlines(): \n",
    "    ras = np.append(ras, np.reshape(np.fromstring(line, dtype=int, sep=','),(1,64,64)), axis=0)\n",
    "\n",
    "# Add the two reliability images together\n",
    "rel = np.add(ras[0],ras[1])\n",
    "\n",
    "# Size - nonzero elements = elements that are zero reliability\n",
    "rel.size - np.count_nonzero(rel)"
   ]
  },
  {
   "cell_type": "code",
   "execution_count": 269,
   "metadata": {},
   "outputs": [
    {
     "data": {
      "text/plain": [
       "<matplotlib.image.AxesImage at 0x14e64f780d0>"
      ]
     },
     "execution_count": 269,
     "metadata": {},
     "output_type": "execute_result"
    },
    {
     "data": {
      "image/png": "[encoded data removed]",
      "text/plain": [
       "<Figure size 864x144 with 5 Axes>"
      ]
     },
     "metadata": {
      "needs_background": "light"
     },
     "output_type": "display_data"
    }
   ],
   "source": [
    "# Let's just see what these look like - I'm sure this could be done more concisely.\n",
    "\n",
    "fig = plt.figure(figsize=(12,2))\n",
    "\n",
    "ax0 = fig.add_subplot(151)\n",
    "ax0.imshow(ras[0], aspect=1, cmap=plt.cm.gray, interpolation='nearest')\n",
    "\n",
    "ax1 = fig.add_subplot(152)\n",
    "ax1.imshow(ras[1], aspect=1, cmap=plt.cm.gray, interpolation='nearest')\n",
    "\n",
    "ax2 = fig.add_subplot(153)\n",
    "ax2.imshow(ras[2], aspect=1, cmap=plt.cm.gray, interpolation='nearest')\n",
    "\n",
    "ax3 = fig.add_subplot(154)\n",
    "ax3.imshow(ras[3], aspect=1, cmap=plt.cm.gray, interpolation='nearest')\n",
    "\n",
    "ax4 = fig.add_subplot(155)\n",
    "ax4.imshow(ras[4], aspect=1, cmap=plt.cm.gray, interpolation='nearest')\n"
   ]
  },
  {
   "cell_type": "code",
   "execution_count": 270,
   "metadata": {},
   "outputs": [
    {
     "name": "stdout",
     "output_type": "stream",
     "text": [
      "https://kata.geosci.ai/challenge/prospecting?key=grajohnt&question=1&answer=134\n",
      "Correct\n"
     ]
    }
   ],
   "source": [
    "# Submit\n",
    "\n",
    "aurl = qurl+'&question='+str(question)+'&answer='+str(rel.size - np.count_nonzero(rel))\n",
    "print(aurl)\n",
    "r = requests.get(aurl)\n",
    "print(r.text)"
   ]
  },
  {
   "cell_type": "code",
   "execution_count": 271,
   "metadata": {},
   "outputs": [
    {
     "data": {
      "text/plain": [
       "241"
      ]
     },
     "execution_count": 271,
     "metadata": {},
     "output_type": "execute_result"
    }
   ],
   "source": [
    "question = 2\n",
    "# 2. How many pixels are predicted to have better than 50th percentile (P50) porosity and better than P50 fracture density?\n",
    "\n",
    "# Golf time.\n",
    "# Use np.percentile to find the P50 values of raster index 2 and 3 (porosity and fracture density),\n",
    "#  then use that to find the elements into those rasters that are greater than those values. This produces\n",
    "#  a boolean array, so use bitwise and to find where both are True, and count how many non-zero (True)\n",
    "#  elements are in that array.\n",
    "\n",
    "np.count_nonzero(np.bitwise_and(ras[2]>np.percentile(ras[2],50),ras[3]>np.percentile(ras[3],50)))\n"
   ]
  },
  {
   "cell_type": "code",
   "execution_count": 272,
   "metadata": {},
   "outputs": [
    {
     "name": "stdout",
     "output_type": "stream",
     "text": [
      "https://kata.geosci.ai/challenge/prospecting?key=grajohnt&question=2&answer=241\n",
      "Correct\n"
     ]
    }
   ],
   "source": [
    "# Submit\n",
    "\n",
    "aurl = qurl+'&question='+str(question)+'&answer='+str(np.count_nonzero(np.bitwise_and(ras[2]>np.percentile(ras[2],50),ras[3]>np.percentile(ras[3],50))))\n",
    "print(aurl)\n",
    "r = requests.get(aurl)\n",
    "print(r.text)"
   ]
  },
  {
   "cell_type": "code",
   "execution_count": 273,
   "metadata": {},
   "outputs": [
    {
     "name": "stdout",
     "output_type": "stream",
     "text": [
      "47\n"
     ]
    }
   ],
   "source": [
    "question = 3\n",
    "# 3. How many of these pixels have non-zero reliability and are on our land? These blobs are our _prospects_.\n",
    "\n",
    "# More golf - take the previous statement and add bitwise_ands against both a 'reliability>0' matrix and our land (ras[4]).\n",
    "#  All of these will ultimately be boolean arrays, and we end with another boolean array.\n",
    "nz = np.count_nonzero(np.bitwise_and(np.bitwise_and(np.bitwise_and(ras[2]>np.percentile(ras[2],50),ras[3]>np.percentile(ras[3],50)),rel>0),ras[4]>0))\n",
    "print(nz)\n"
   ]
  },
  {
   "cell_type": "code",
   "execution_count": 274,
   "metadata": {},
   "outputs": [
    {
     "name": "stdout",
     "output_type": "stream",
     "text": [
      "https://kata.geosci.ai/challenge/prospecting?key=grajohnt&question=3&answer=47\n",
      "Correct\n"
     ]
    }
   ],
   "source": [
    "# Submit\n",
    "\n",
    "aurl = qurl+'&question='+str(question)+'&answer='+str(nz)\n",
    "print(aurl)\n",
    "r = requests.get(aurl)\n",
    "print(r.text)"
   ]
  },
  {
   "cell_type": "code",
   "execution_count": 279,
   "metadata": {},
   "outputs": [
    {
     "data": {
      "text/plain": [
       "2156"
      ]
     },
     "execution_count": 279,
     "metadata": {},
     "output_type": "execute_result"
    }
   ],
   "source": [
    "question = 4\n",
    "# 4. Find the product of the (x, y) coordinates of the cell containing the centre of mass of the largest _prospect_ blob.\n",
    "\n",
    "import math\n",
    "from scipy.ndimage import label\n",
    "from scipy.ndimage import center_of_mass\n",
    "\n",
    "# Matrix from the calculation made for Q3\n",
    "prosp = np.bitwise_and(np.bitwise_and(np.bitwise_and(ras[2]>np.percentile(ras[2],50),ras[3]>np.percentile(ras[3],50)),rel>0),ras[4]>0)\n",
    "\n",
    "# Label each blob with scipy.ndimage.label\n",
    "prospl, n = label(prosp)\n",
    "\n",
    "# A bit complex:\n",
    "#  Since the unique values of the 'blobs' includes the counts of the 'non-blob' pixels, we need to find the biggest one\n",
    "#  that's *not* that - so the second biggest value. We do that by querying the labeled prospects > 0.\n",
    "#  np.unique gives the counts as the second variable it returns so we need part [1] of that to feed to np.argmax to\n",
    "#  find the one that is most common. *But*, since we excluded 0 from this, we need to add one back to this number to\n",
    "#  account for the fact that we didn't include it in this index. The result of the np.argmax bit will be the integer\n",
    "#  that is the index of the largest blob. Then just compute scipy.ndimage.center_of_mass of that value.\n",
    "\n",
    "(a,b) = center_of_mass(prosp,prospl,np.argmax(np.unique(prospl[prospl>0], return_counts=True)[1])+1)\n",
    "\n",
    "\n",
    "# In case you want to see the values...\n",
    "#print(' a = '+str(a)+' b = '+str(b))\n",
    "\n",
    "# Using modf to get the integer parts of these to then mulitply for the answer.\n",
    "int(math.modf(a)[1]*math.modf(b)[1])"
   ]
  },
  {
   "cell_type": "code",
   "execution_count": 280,
   "metadata": {},
   "outputs": [
    {
     "name": "stdout",
     "output_type": "stream",
     "text": [
      "https://kata.geosci.ai/challenge/prospecting?key=grajohnt&question=4&answer=2156\n",
      "Correct! The next challenge is: https://kata.geosci.ai/challenge/birthquakes - good luck!\n"
     ]
    }
   ],
   "source": [
    "# Submit\n",
    "\n",
    "aurl = qurl+'&question='+str(question)+'&answer='+str(int(math.modf(a)[1]*math.modf(b)[1]))\n",
    "print(aurl)\n",
    "r = requests.get(aurl)\n",
    "print(r.text)"
   ]
  }
 ],
 "metadata": {
  "kernelspec": {
   "display_name": "Python 3",
   "language": "python",
   "name": "python3"
  },
  "language_info": {
   "codemirror_mode": {
    "name": "ipython",
    "version": 3
   },
   "file_extension": ".py",
   "mimetype": "text/x-python",
   "name": "python",
   "nbconvert_exporter": "python",
   "pygments_lexer": "ipython3",
   "version": "3.8.0"
  }
 },
 "nbformat": 4,
 "nbformat_minor": 4
}
