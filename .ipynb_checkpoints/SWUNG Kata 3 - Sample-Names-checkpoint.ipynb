{
 "cells": [
  {
   "cell_type": "code",
   "execution_count": 11,
   "metadata": {},
   "outputs": [
    {
     "name": "stdout",
     "output_type": "stream",
     "text": [
      "# Sample names\n",
      "\n",
      "You have a set of sample names. They look like this:\n",
      "\n",
      "    001235_Ainsa_Sobrarbe_C_2016-04-20_PCx\n",
      "    ^^^^^^ ^^^^^ ^^^^^^^^ ^ ^^^^^^^^^^ ^^^\n",
      "      1      2      3     4      5      6\n",
      "\n",
      "A **valid name** consists of 6 parts separated by underscores. The parts are underlined, above. Note that the parts might not be correct or consistent. Having 6 parts, whether they are correct or not, is enough to be called 'valid'. There may be other problems, for example with the spelling or formatting of individual parts, but we will still call it 'valid'.\n",
      "\n",
      "The 6 parts are:\n",
      "\n",
      "- **Unique identifier** consisting of 6 characters.\n",
      "- **Basin name.** Note that spellings are not guaranteed to be correct.\n",
      "- **Unit or Formation name.** Note that spellings are not guaranteed to be correct.\n",
      "- **Specimen type**, either H or C (hand or core).\n",
      "- **Date**, which must be in ISO 8601 YYYY-MM-DD format to be considered correct.\n",
      "- **Preparation codes** of at least one character.\n",
      "\n",
      "We need to extract some information from this dataset.\n",
      "\n",
      "1. How many valid sample names are there?\n",
      "2. How many valid samples were taken in the Ainsa basin? Include records with misspelt basin names.\n",
      "3. What's the longest period of days with no valid samples taken in Ainsa?\n",
      "\n",
      "If looking for misspellings, we'll assume that any word starting and ending in the same letters, but with the middle letters scrambled, is the same word. So 'Anisa' is a misspelling of 'Ainsa', but 'Aimsa' is not. We'll also assume that the spelling with the most occurrences is the correct spelling.\n",
      "\n",
      "\n",
      "## Example\n",
      "\n",
      "Here's some sample data:\n",
      "\n",
      "    001235_Ainsa_Sobrarbe_C_2016-04-20_PCx\n",
      "    001236_Ainsa_Sobrarbe_H_2016-04-21_P\n",
      "    001237_Anisa_Sobrarbe_H_2016-04-29_TCx\n",
      "    001238_Sorbas_Gochar_2017-06-03_PxM\n",
      "    001238_Sorbas_Gochar_C_2017-06-03_PxM\n",
      "    001240_SORBAS_Gochar_C_2017-06-03_PxM\n",
      "\n",
      "Let's answer the 3 questions for this sample dataset:\n",
      "\n",
      "- There are **5** valid names (and 1 invalid one, with no specimen type).\n",
      "- The Ainsa Basin appears in **3** sample names (including 1 misspelling).\n",
      "- There is a **7** day period with no samples taken, between 21 April and 29 April.\n",
      "\n",
      "\n",
      "## Hints\n",
      "\n",
      "It's likely that the `datetime` library will be useful in answering question 3. In particular, this code is useful:\n",
      "\n",
      "    from datetime import datetime\n",
      "    datetime.fromisoformat('2016-07-03')\n",
      "    \n",
      "If that command fails on a date, then you should consider the date format incorrect and ignore that record.\n",
      "\n",
      "\n",
      "## A quick reminder how this works\n",
      "\n",
      "You can retrieve your data by choosing any Python string as a **`<KEY>`** and substituting here:\n",
      "    \n",
      "    https://kata.geosci.ai/challenge/sample-names?key=<KEY>\n",
      "                                                      ^^^^^\n",
      "                                                      use your own string here\n",
      "\n",
      "To answer question 1, make a request like:\n",
      "\n",
      "    https://kata.geosci.ai/challenge/sample-names?key=<KEY>&question=1&answer=1234\n",
      "                                                      ^^^^^          ^        ^^^^\n",
      "                                                      your key       Q        your answer\n",
      "\n",
      "[Complete instructions at kata.geosci.ai](https://kata.geosci.ai/challenge)\n",
      "\n",
      "----\n",
      "\n",
      "© 2020 Agile Scientific, licensed CC-BY\n"
     ]
    }
   ],
   "source": [
    "import requests\n",
    "\n",
    "url = 'https://kata.geosci.ai/challenge/sample-names'\n",
    "r = requests.get(url)\n",
    "print(r.text)\n"
   ]
  },
  {
   "cell_type": "code",
   "execution_count": 12,
   "metadata": {},
   "outputs": [],
   "source": [
    "key = 'grajohnt'\n",
    "qurl = 'https://kata.geosci.ai/challenge/sample-names?key='+key  # <--- In week 2, you'll change the name\n",
    "r = requests.get(qurl)\n",
    "samples = r.text\n",
    "#print(samples)"
   ]
  },
  {
   "cell_type": "code",
   "execution_count": 13,
   "metadata": {},
   "outputs": [
    {
     "data": {
      "text/plain": [
       "9184"
      ]
     },
     "execution_count": 13,
     "metadata": {},
     "output_type": "execute_result"
    }
   ],
   "source": [
    "question = 1\n",
    "#1. How many valid sample names are there?\n",
    "\n",
    "import regex #oh look - more regex - surprise!\n",
    "s = regex.findall(\"(\\d+)_(.+)_(.+)_(.+)_(.+)_(.+)\",samples)\n",
    "\n",
    "len(s) # If a sample is valid, it should be in s\n"
   ]
  },
  {
   "cell_type": "code",
   "execution_count": 14,
   "metadata": {
    "scrolled": true
   },
   "outputs": [
    {
     "name": "stdout",
     "output_type": "stream",
     "text": [
      "https://kata.geosci.ai/challenge/sample-names?key=grajohnt&question=1&answer=9184\n",
      "Correct\n"
     ]
    }
   ],
   "source": [
    "# Submit\n",
    "\n",
    "aurl = qurl+'&question='+str(question)+'&answer='+str(len(s))\n",
    "print(aurl)\n",
    "r = requests.get(aurl)\n",
    "print(r.text)"
   ]
  },
  {
   "cell_type": "code",
   "execution_count": 15,
   "metadata": {},
   "outputs": [
    {
     "name": "stdout",
     "output_type": "stream",
     "text": [
      "1949\n"
     ]
    }
   ],
   "source": [
    "question = 2\n",
    "#2. How many valid samples were taken in the Ainsa basin? Include records with misspelt basin names.\n",
    "\n",
    "ac = 0\n",
    "for line in s:\n",
    "    # Another regex match to pick up all things that start/end with A and have some variation of 'ins' in the middle\n",
    "    #  Note that this only reads from the second column of data (which contains the basin name)\n",
    "    if regex.findall(\"[Aa][insINS]{3}[Aa]\",line[1]):\n",
    "        ac = ac+1\n",
    "\n",
    "print(ac)        "
   ]
  },
  {
   "cell_type": "code",
   "execution_count": 16,
   "metadata": {},
   "outputs": [
    {
     "name": "stdout",
     "output_type": "stream",
     "text": [
      "https://kata.geosci.ai/challenge/sample-names?key=grajohnt&question=2&answer=1949\n",
      "Correct\n"
     ]
    }
   ],
   "source": [
    "aurl = qurl+'&question='+str(question)+'&answer='+str(ac)\n",
    "print(aurl)\n",
    "r = requests.get(aurl)\n",
    "print(r.text)\n"
   ]
  },
  {
   "cell_type": "code",
   "execution_count": 17,
   "metadata": {},
   "outputs": [
    {
     "name": "stdout",
     "output_type": "stream",
     "text": [
      "294\n",
      "Number of days between samples = 293\n"
     ]
    }
   ],
   "source": [
    "question = 3\n",
    "#3. What's the longest period of days with no valid samples taken in Ainsa?\n",
    "\n",
    "# Use datetime as suggested...\n",
    "from datetime import datetime\n",
    "\n",
    "# Reset/define the variables\n",
    "lastdate = None\n",
    "td = None\n",
    "maxtd = 0\n",
    "lastline = 0\n",
    "\n",
    "for line in s:\n",
    "    # Use the regex match from question 2\n",
    "    if regex.findall(\"[Aa][insINS]{3}[Aa]\",line[1]):\n",
    "        # Read the date from column 5, trapping for invalid dates\n",
    "        try: sdate = datetime.fromisoformat(line[4])\n",
    "        except: continue\n",
    "        \n",
    "        # Only for the first date on the list\n",
    "        if lastdate is None:\n",
    "            lastdate = sdate\n",
    "            \n",
    "        # Find the gap in time, and see if it's the longest\n",
    "        else:\n",
    "            td = sdate - lastdate   \n",
    "            if td.days > maxtd: maxtd = td.days\n",
    "        lastdate = sdate\n",
    "        \n",
    "# Note that this is the number of days between, but *including* the start date!\n",
    "#  We must therefore subtract one from this value to get the number of days *between* samples.\n",
    "\n",
    "print(str(maxtd))\n",
    "print('Number of days between samples = ' + str(maxtd-1))        "
   ]
  },
  {
   "cell_type": "code",
   "execution_count": 18,
   "metadata": {},
   "outputs": [
    {
     "name": "stdout",
     "output_type": "stream",
     "text": [
      "https://kata.geosci.ai/challenge/sample-names?key=grajohnt&question=3&answer=293\n",
      "Correct! The next challenge is: https://kata.geosci.ai/challenge/prospecting - good luck!\n"
     ]
    }
   ],
   "source": [
    "aurl = qurl+'&question='+str(question)+'&answer='+str(maxtd-1)\n",
    "print(aurl)\n",
    "r = requests.get(aurl)\n",
    "print(r.text)"
   ]
  },
  {
   "cell_type": "code",
   "execution_count": null,
   "metadata": {},
   "outputs": [],
   "source": []
  }
 ],
 "metadata": {
  "kernelspec": {
   "display_name": "Python 3",
   "language": "python",
   "name": "python3"
  },
  "language_info": {
   "codemirror_mode": {
    "name": "ipython",
    "version": 3
   },
   "file_extension": ".py",
   "mimetype": "text/x-python",
   "name": "python",
   "nbconvert_exporter": "python",
   "pygments_lexer": "ipython3",
   "version": "3.8.0"
  }
 },
 "nbformat": 4,
 "nbformat_minor": 4
}
