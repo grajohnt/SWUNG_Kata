{
 "cells": [
  {
   "cell_type": "code",
   "execution_count": 299,
   "metadata": {},
   "outputs": [
    {
     "name": "stdout",
     "output_type": "stream",
     "text": [
      "# Boreholes\n",
      "\n",
      "You have a list of boreholes. Each one has an (x, y) location. The locations are given as a Python string, and look like this:\n",
      "\n",
      "    ..., (12.1, 34.3), (56.5, 78.7), (90.9, 12.1),...\n",
      "    \n",
      "Your data, when you receive it, will be longer than this.\n",
      "    \n",
      "We're going to analyse these locations. We need the answers to the following questions:\n",
      "\n",
      "1. How many boreholes are there? We'll call this number _n_.\n",
      "2. What's the distance, **to the nearest metre** between the first two boreholes in the list?\n",
      "3. What is the mean straight-line distance between all pairs of boreholes **to the nearest metre**? Call this _m_.\n",
      "4. There is a clump of boreholes. How many boreholes are in the clump? (A borehole is defined to be in a clump if the mean distance to its nearest _n_ / 5 neighbours is _m_ / 4 or less.)\n",
      "\n",
      "Please note that all your answers must be integers. If you get a float for an answer, round it.\n",
      "\n",
      "\n",
      "## Example\n",
      "\n",
      "Here are the locations of some boreholes:\n",
      "\n",
      "      (1, 4), (5, 4), (9, 3), (2, 8), (6, 4), (9, 9), (5, 5), (4, 3), (4, 5), (2, 1)\n",
      "      \n",
      "If we plot them, they look like this:\n",
      "\n",
      "    y\n",
      "    ^\n",
      "    9 - - - - - - - - - 0\n",
      "    8 - - 0 - - - - - - -\n",
      "    7 - - - - - - - - - -\n",
      "    6 - - - - - - - - - -\n",
      "    5 - - - - 0 0 - - - -\n",
      "    4 - 0 - - - 0 0 - - -\n",
      "    3 - - - - 0 - - - - 0\n",
      "    2 - - - - - - - - - -\n",
      "    1 - - 0 - - - - - - -\n",
      "    0 - - - - - - - - - -\n",
      "      0 1 2 3 4 5 6 7 8 9 > x\n",
      "    \n",
      "Here's how we'd answer the questions for this small dataset:\n",
      "\n",
      "- In this example, there are **10** wells (marked `0` on the plot above).\n",
      "- The distance between the first two boreholes in the list, (1, 4) and (5, 4), is **4**.\n",
      "- The mean distance between boreholes is 4.58... which to the nearest metre is **5**.\n",
      "- There are **4** wells in the clump. See below.\n",
      "\n",
      "Wells in the clump are marked `X` here (the borehole marked `O` does not meet the criterion):\n",
      "\n",
      "    y\n",
      "    ^\n",
      "    9 - - - - - - - - - 0\n",
      "    8 - - 0 - - - - - - -\n",
      "    7 - - - - - - - - - -\n",
      "    6 - - - - - - - - - -\n",
      "    5 - - - - X X - - - -\n",
      "    4 - 0 - - - X X - - -\n",
      "    3 - - - - O - - - - 0\n",
      "    2 - - - - - - - - - -\n",
      "    1 - - 0 - - - - - - -\n",
      "    0 - - - - - - - - - -\n",
      "      0 1 2 3 4 5 6 7 8 9 > x\n",
      "\n",
      "\n",
      "## A quick reminder how this works\n",
      "\n",
      "You can retrieve your data by choosing any Python string as a **`<KEY>`** and substituting here:\n",
      "    \n",
      "    https://kata.geosci.ai/challenge/boreholes?key=<KEY>\n",
      "                                                   ^^^^^\n",
      "                                                   use your own string here\n",
      "\n",
      "To answer question 1, make a request like:\n",
      "\n",
      "    https://kata.geosci.ai/challenge/boreholes?key=<KEY>&question=1&answer=1234\n",
      "                                                   ^^^^^          ^        ^^^^\n",
      "                                                   your key       Q        your answer\n",
      "\n",
      "[Complete instructions at kata.geosci.ai](https://kata.geosci.ai/challenge)\n",
      "\n",
      "----\n",
      "\n",
      "© 2020 Agile Scientific, licensed CC-BY\n"
     ]
    }
   ],
   "source": [
    "import requests\n",
    "\n",
    "url = 'https://kata.geosci.ai/challenge/boreholes'\n",
    "\n",
    "r = requests.get(url)\n",
    "print(r.text)"
   ]
  },
  {
   "cell_type": "code",
   "execution_count": 300,
   "metadata": {},
   "outputs": [],
   "source": [
    "key = 'grajohnt'\n",
    "qurl = 'https://kata.geosci.ai/challenge/boreholes?key='+key  # <--- In week 2, you'll change the name\n",
    "\n",
    "r = requests.get(qurl)\n",
    "boreholes = r.text\n",
    "#print(boreholes)"
   ]
  },
  {
   "cell_type": "code",
   "execution_count": 301,
   "metadata": {},
   "outputs": [
    {
     "name": "stdout",
     "output_type": "stream",
     "text": [
      "110\n"
     ]
    }
   ],
   "source": [
    "question = 1\n",
    "# 1. How many boreholes are there? We'll call this number _n_.\n",
    "\n",
    "# Regex to the rescue again - the naming isn't necessary\n",
    "import regex\n",
    "coords = regex.findall(\"(?<x>\\d+.\\d+), (?<y>\\d+.\\d+)\",boreholes)\n",
    "n = len(coords)\n",
    "\n",
    "print(str(int(n/5)))"
   ]
  },
  {
   "cell_type": "code",
   "execution_count": 302,
   "metadata": {},
   "outputs": [
    {
     "name": "stdout",
     "output_type": "stream",
     "text": [
      "https://kata.geosci.ai/challenge/boreholes?key=grajohnt&question=1&answer=550\n",
      "Correct\n"
     ]
    }
   ],
   "source": [
    "# Submit\n",
    "\n",
    "aurl = qurl+'&question='+str(question)+'&answer='+str(len(coords))\n",
    "print(aurl)\n",
    "r = requests.get(aurl)\n",
    "print(r.text)"
   ]
  },
  {
   "cell_type": "code",
   "execution_count": 303,
   "metadata": {},
   "outputs": [
    {
     "name": "stdout",
     "output_type": "stream",
     "text": [
      "5891\n"
     ]
    }
   ],
   "source": [
    "question = 2\n",
    "# What's the distance, **to the nearest metre** between the first two boreholes in the list?\n",
    "\n",
    "# Euclidian distance - nbd\n",
    "import math\n",
    "dist = math.sqrt( ((float(coords[1][0]) - float(coords[0][0]))**2) + ((float(coords[1][1]) - float(coords[0][1]))**2) )\n",
    "\n",
    "# Round it off\n",
    "print(str(int(round(dist,0))))"
   ]
  },
  {
   "cell_type": "code",
   "execution_count": 304,
   "metadata": {},
   "outputs": [
    {
     "name": "stdout",
     "output_type": "stream",
     "text": [
      "https://kata.geosci.ai/challenge/boreholes?key=grajohnt&question=2&answer=5891\n",
      "Correct\n"
     ]
    }
   ],
   "source": [
    "# Submit\n",
    "\n",
    "aurl = qurl+'&question='+str(question)+'&answer='+str(int(round(dist,0)))  # <--- In week 2, you'll change the name\n",
    "print(aurl)\n",
    "r = requests.get(aurl)\n",
    "print(r.text)"
   ]
  },
  {
   "cell_type": "code",
   "execution_count": 305,
   "metadata": {},
   "outputs": [
    {
     "name": "stdout",
     "output_type": "stream",
     "text": [
      "11615\n"
     ]
    }
   ],
   "source": [
    "question = 3\n",
    "#3. What is the mean straight-line distance between all pairs of boreholes **to the nearest metre**? Call this _m_.\n",
    "\n",
    "# This calls for a function\n",
    "def dist(p1,p2):\n",
    "    (x1,y1),(x2,y2) = p1, p2\n",
    "    return math.sqrt((float(x2)-float(x1))**2+(float(y2)-float(y1))**2)\n",
    "\n",
    "# itertools can provide all point-point combinations...\n",
    "from itertools import combinations\n",
    "dists = [dist(p1,p2) for p1,p2 in combinations(coords, 2)]\n",
    "\n",
    "avg_dist = sum(dists)/len(dists)\n",
    "\n",
    "# Round it off\n",
    "print(str(int(round(avg_dist,0))))\n",
    "m = int(round(avg_dist,0))"
   ]
  },
  {
   "cell_type": "code",
   "execution_count": 306,
   "metadata": {
    "scrolled": true
   },
   "outputs": [
    {
     "name": "stdout",
     "output_type": "stream",
     "text": [
      "https://kata.geosci.ai/challenge/boreholes?key=grajohnt&question=3&answer=11615\n",
      "Correct\n"
     ]
    }
   ],
   "source": [
    "# Submit \n",
    "\n",
    "aurl = qurl+'&question='+str(question)+'&answer='+str(int(round(avg_dist,0)))\n",
    "print(aurl)\n",
    "r = requests.get(aurl)\n",
    "print(r.text)"
   ]
  },
  {
   "cell_type": "code",
   "execution_count": 307,
   "metadata": {},
   "outputs": [],
   "source": [
    "question = 4\n",
    "\n",
    "#There is a clump of boreholes. How many boreholes are in the clump?\n",
    "# (A borehole is defined to be in a clump if the mean distance to its nearest _n_ / 5 neighbours is _m_ / 4 or less.)"
   ]
  },
  {
   "cell_type": "code",
   "execution_count": 308,
   "metadata": {},
   "outputs": [],
   "source": [
    "# Change the string coords into a numpy array of floats\n",
    "\n",
    "import numpy as np\n",
    "c = np.asarray(coords)\n",
    "c = c.astype(float)\n"
   ]
  },
  {
   "cell_type": "code",
   "execution_count": 309,
   "metadata": {},
   "outputs": [
    {
     "data": {
      "image/png": "[encoded data removed]",
      "text/plain": [
       "<Figure size 432x288 with 1 Axes>"
      ]
     },
     "metadata": {
      "needs_background": "light"
     },
     "output_type": "display_data"
    }
   ],
   "source": [
    "# Quick view of the boreholes - not necessary\n",
    "\n",
    "import matplotlib.pyplot as plt\n",
    "zip(*c)\n",
    "plt.scatter(*zip(*c))\n",
    "plt.show()"
   ]
  },
  {
   "cell_type": "code",
   "execution_count": 315,
   "metadata": {},
   "outputs": [
    {
     "data": {
      "text/plain": [
       "11615.0"
      ]
     },
     "execution_count": 315,
     "metadata": {},
     "output_type": "execute_result"
    }
   ],
   "source": [
    "# Scipy has a good way of computing point distances\n",
    "\n",
    "from scipy.spatial.distance import pdist\n",
    "pdc = pdist(c)\n",
    "\n",
    "round(np.mean(pdc),0) # Could have computed the mean distance this way more concisely"
   ]
  },
  {
   "cell_type": "code",
   "execution_count": 311,
   "metadata": {},
   "outputs": [
    {
     "data": {
      "text/plain": [
       "array([[    0.        ,  5891.21626403, 13434.68561199, ...,\n",
       "        15403.27225672, 12208.65775759, 14302.47851263],\n",
       "       [ 5891.21626403,     0.        , 16652.94730796, ...,\n",
       "        17804.41014539, 13993.04914582, 17232.75259869],\n",
       "       [13434.68561199, 16652.94730796,     0.        , ...,\n",
       "         2946.68630202,  4254.32943212,  1144.45500379],\n",
       "       ...,\n",
       "       [15403.27225672, 17804.41014539,  2946.68630202, ...,\n",
       "            0.        ,  3928.18483227,  1832.40631853],\n",
       "       [12208.65775759, 13993.04914582,  4254.32943212, ...,\n",
       "         3928.18483227,     0.        ,  4078.15798136],\n",
       "       [14302.47851263, 17232.75259869,  1144.45500379, ...,\n",
       "         1832.40631853,  4078.15798136,     0.        ]])"
      ]
     },
     "execution_count": 311,
     "metadata": {},
     "output_type": "execute_result"
    }
   ],
   "source": [
    "# This turns the condensed matrix into a square matrix\n",
    "#  maybe not necessary, but easier for me to understand\n",
    "\n",
    "from scipy.spatial.distance import squareform\n",
    "pdm = squareform(pdc)\n",
    "pdm"
   ]
  },
  {
   "cell_type": "code",
   "execution_count": 312,
   "metadata": {},
   "outputs": [
    {
     "name": "stdout",
     "output_type": "stream",
     "text": [
      "138\n"
     ]
    }
   ],
   "source": [
    "# Use heapq to find the smallest distances of n/5 points\n",
    "\n",
    "import heapq\n",
    "clump = 0\n",
    "for pdmr in pdm:\n",
    "    top = pdmr[heapq.nsmallest(int(n/5)+1, range(len(pdmr)),pdmr.take)]\n",
    "    top = np.delete(top,[0]) # Shortest is itself, which is 0 - must delete (grr)\n",
    "    # Check if the avg of the distances is less than m/4\n",
    "    if np.mean(top) <= m/4:\n",
    "        clump = clump+1        \n",
    "\n",
    "print(str(clump))\n"
   ]
  },
  {
   "cell_type": "code",
   "execution_count": 313,
   "metadata": {},
   "outputs": [
    {
     "name": "stdout",
     "output_type": "stream",
     "text": [
      "https://kata.geosci.ai/challenge/boreholes?key=grajohnt&question=4&answer=138\n",
      "Correct! The next challenge is: https://kata.geosci.ai/challenge/sample-names - good luck!\n"
     ]
    }
   ],
   "source": [
    "# Submit\n",
    "aurl = qurl+'&question='+str(question)+'&answer='+str(clump)  # <--- In week 2, you'll change the name\n",
    "print(aurl)\n",
    "r = requests.get(aurl)\n",
    "print(r.text)"
   ]
  },
  {
   "cell_type": "code",
   "execution_count": 316,
   "metadata": {},
   "outputs": [
    {
     "data": {
      "text/plain": [
       "array([[    0.        ,  5891.21626403, 13434.68561199, ...,\n",
       "        15403.27225672, 12208.65775759, 14302.47851263],\n",
       "       [ 5891.21626403,     0.        , 16652.94730796, ...,\n",
       "        17804.41014539, 13993.04914582, 17232.75259869],\n",
       "       [13434.68561199, 16652.94730796,     0.        , ...,\n",
       "         2946.68630202,  4254.32943212,  1144.45500379],\n",
       "       ...,\n",
       "       [15403.27225672, 17804.41014539,  2946.68630202, ...,\n",
       "            0.        ,  3928.18483227,  1832.40631853],\n",
       "       [12208.65775759, 13993.04914582,  4254.32943212, ...,\n",
       "         3928.18483227,     0.        ,  4078.15798136],\n",
       "       [14302.47851263, 17232.75259869,  1144.45500379, ...,\n",
       "         1832.40631853,  4078.15798136,     0.        ]])"
      ]
     },
     "execution_count": 316,
     "metadata": {},
     "output_type": "execute_result"
    }
   ],
   "source": [
    "# An alterative way to compute the distance matrix from sklearn - generates the same matrix as above\n",
    "from sklearn.neighbors import DistanceMetric\n",
    "\n",
    "dist = DistanceMetric.get_metric('euclidean')\n",
    "dists = dist.pairwise(c)\n",
    "dists\n"
   ]
  },
  {
   "cell_type": "code",
   "execution_count": null,
   "metadata": {},
   "outputs": [],
   "source": []
  }
 ],
 "metadata": {
  "kernelspec": {
   "display_name": "Python 3",
   "language": "python",
   "name": "python3"
  },
  "language_info": {
   "codemirror_mode": {
    "name": "ipython",
    "version": 3
   },
   "file_extension": ".py",
   "mimetype": "text/x-python",
   "name": "python",
   "nbconvert_exporter": "python",
   "pygments_lexer": "ipython3",
   "version": "3.8.0"
  }
 },
 "nbformat": 4,
 "nbformat_minor": 4
}
