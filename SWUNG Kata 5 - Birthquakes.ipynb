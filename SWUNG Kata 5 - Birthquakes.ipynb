{
 "cells": [
  {
   "cell_type": "code",
   "execution_count": 93,
   "metadata": {
    "scrolled": false
   },
   "outputs": [
    {
     "name": "stdout",
     "output_type": "stream",
     "text": [
      "# Birthquakes\n",
      "\n",
      "We are going to look at earthquakes, on your birthdate. Birthquakes!\n",
      "\n",
      "We will also be implementing the haversine formula for determining the distance between two ponts on the earth's surface.\n",
      "\n",
      "This challenge is a bit different from the previous ones. You can use any old string for your key, as usual, but if you use a date, you'll get data for that date. For example:\n",
      "\n",
      "      url = 'https://kata.geosci.ai/challenge/birthquakes'\n",
      "      params = {'key': '1980-06-30'}  # <-- The key can be a date.\n",
      "      r = requests.get(url, params)\n",
      "\n",
      "Your challenge input is now `r.text`. There is a header row containing the names of the columns, plus a number of data rows or 'records'. Each row has 13 columns, and represents the data for a single earthquake.\n",
      "\n",
      "You need to answer the following questions:\n",
      "\n",
      "1. How many records (i.e. earthquakes) are there?\n",
      "2. What is the depth **in metres** of the earthquake with the largest **Magnitude**? (If there's more than one, give the deepest.)\n",
      "3. What is the great circle distance **to the nearest km**, as given by the haversine formula, between the epicentres of the two **largest** earthquakes, as measured by magnitude?\n",
      "4. Consider all pairs of events. How many pairs are less than 100 km of each other? (Exactly 100 km would **not** be included.)\n",
      "\n",
      "Note that because we're asking about epicentres, so you don't need to worry about depth when calculating great circle distances.\n",
      "\n",
      "For Question 4, only count unique pairs. For example, inthe diagram below there are 15 pairs of points altogether, of which there are 7 pairs with a mutual distance of < 100 km here &mdash; 1 pair on the left and 6 on the right:\n",
      "\n",
      "      \n",
      "      x                  x\n",
      "                            x\n",
      "         x              x  x\n",
      "            ==========\n",
      "              100 km\n",
      "\n",
      "\n",
      "## Haversine formula\n",
      "\n",
      "There are several formulas for computing [great circle distance](https://en.wikipedia.org/wiki/Great-circle_distance) on a sphere. The simplest accurate one is the haversine formula, which is described here.\n",
      "\n",
      "Given two points with (_latitude_, _longitude_), we'll denote point 1 with $(\\varphi_1, \\lambda_1)$ and point 2 with $(\\varphi_2, \\lambda_2)$. Then distance _d_ is related to radius _r_ by:\n",
      "\n",
      "$$   d  = 2r \\arcsin\\left(\\sqrt{\\sin^2\\left(\\frac{\\varphi_2 - \\varphi_1}{2}\\right) + \\cos(\\varphi_1) \\cos(\\varphi_2)\\sin^2\\left(\\frac{\\lambda_2 - \\lambda_1}{2}\\right)}\\right)$$\n",
      "\n",
      "Some hints about implementing this in Python:\n",
      "\n",
      "- Use $r = 6371\\ \\mathrm{km}$ for the radius of the earth.\n",
      "- $\\sin^2(x)$ means $\\sin(x) \\times \\sin(x)$.\n",
      "- Both the `math` module and NumPy have the functions `sin()`, `cos()`; these functions expect radians, so an angle in degrees must be converted to radians with `radians()` before giving it to the function.\n",
      "- The arcsine function in `math` is called `asin()`; in NumPy it's `arcsin()`.\n",
      "- The function should return distances **to the nearest km**.\n",
      "- You should get the following results from your function:\n",
      "  - The distance from (0, 0) to (0, 1) is 111 km.\n",
      "  - The distance from (0, 2.35) to (90, 2.35) is 10008 km. [(Why?)](https://en.wikipedia.org/wiki/History_of_the_metre)\n",
      "  - The distance from (44.65, -63.58) to (53.73, -1.86) is 4448 km.\n",
      "\n",
      "\n",
      "## A quick reminder how this works\n",
      "\n",
      "You can retrieve your data by choosing any date (or any old Python string to choose a random date) as a **`<KEY>`** and substituting here:\n",
      "    \n",
      "    https://kata.geosci.ai/challenge/birthquakes?key=<KEY>\n",
      "                                                     ^^^^^\n",
      "                                                     you can use a date, e.g. 2001-01-01\n",
      "\n",
      "To answer question 1, make a request like:\n",
      "\n",
      "    https://kata.geosci.ai/challenge/birthquakes?key=<KEY>&question=1&answer=123\n",
      "                                                     ^^^^^          ^        ^^^\n",
      "                                                     your key       Q        your answer\n",
      "\n",
      "[Complete instructions at kata.geosci.ai](https://kata.geosci.ai/challenge)\n",
      "\n",
      "----\n",
      "\n",
      "© 2020 Agile Scientific, licensed CC-BY\n"
     ]
    }
   ],
   "source": [
    "import requests\n",
    "\n",
    "url = 'https://kata.geosci.ai/challenge/birthquakes'\n",
    "r = requests.get(url)\n",
    "print(r.text)\n"
   ]
  },
  {
   "cell_type": "code",
   "execution_count": 94,
   "metadata": {},
   "outputs": [
    {
     "name": "stdout",
     "output_type": "stream",
     "text": [
      "#EventID|Time|Latitude|Longitude|Depth/km|Author|Catalog|Contributor|ContributorID|MagType|Magnitude|MagAuthor|EventLocationName\n",
      "hv19703537|1970-10-26T17:06:06.420|19.3785|-154.8195|36.169|hv|hv|hv|hv19703537|ml|1.76|hv|Hawaii region, Hawaii\n",
      "hv19703536|1970-10-26T13:02:17.860|19.8295|-155.2555|-1.285|hv|hv|hv|hv19703536|ml|1.86|hv|Hawaii region, Hawaii\n",
      "hv19703535|1970-10-26T11:05:51.980|19.4118333|-155.2808333|2.481|hv|hv|hv|hv19703535|ml|1.73|hv|Hawaii region, Hawaii\n",
      "hv19703534|1970-10-26T10:39:51.880|19.4585|-155.2565|-1.193|hv|hv|hv|hv19703534|ml|2.17|hv|Hawaii region, Hawaii\n",
      "ci3323604|1970-10-26T06:53:51.260|33.0161667|-116.3958333|6|ci|ci|ci|ci3323604|ml|3.19|ci|20km ESE of Julian, CA\n",
      "hv19703533|1970-10-26T05:34:36.440|19.4175|-155.2316667|-1.089|hv|hv|hv|hv19703533|ml|1.91|hv|Hawaii region, Hawaii\n",
      "hv19703532|1970-10-26T05:19:42.710|19.403|-155.2825|-0.119|hv|hv|hv|hv19703532|ml|1.79|hv|Hawaii region, Hawaii\n",
      "hv19703531|1970-10-26T05:14:57.050|19.4003333|-155.2835|0.011|hv|hv|hv|hv19703531|ml|1.83|hv|Hawaii region, Hawaii\n",
      "hv19703530|1970-10-26T04:35:38.680|19.2948333|-155.2745|33.147|hv|hv|hv|hv19703530|ml|1.93|hv|Hawaii region, Hawaii\n",
      "hv19703529|1970-10-26T04:04:35.430|19.3746667|-155.2381667|2.115|hv|hv|hv|hv19703529|ml|1.47|hv|Hawaii region, Hawaii\n",
      "hv19703528|1970-10-26T03:43:02.610|19.4026667|-155.2511667|2.266|hv|hv|hv|hv19703528|ml|1.16|hv|Hawaii region, Hawaii\n",
      "hv19703527|1970-10-26T03:17:47.690|19.4826667|-155.1808333|4.061|hv|hv|hv|hv19703527|ml|2.3|hv|Hawaii region, Hawaii\n",
      "hv19703526|1970-10-26T02:24:18.730|19.4066667|-155.2785|0.331|hv|hv|hv|hv19703526|ml|1.97|hv|Hawaii region, Hawaii\n",
      "hv19703525|1970-10-26T01:42:09.530|19.3236667|-155.2521667|32.084|hv|hv|hv|hv19703525|ml|2.61|hv|Hawaii region, Hawaii\n",
      "hv19703524|1970-10-26T00:22:00.220|19.3486667|-155.219|30.699|hv|hv|hv|hv19703524|ml|1.89|hv|Hawaii region, Hawaii\n",
      "hv19703523|1970-10-25T23:47:08.290|19.3756667|-155.2205|30.519|hv|hv|hv|hv19703523|ml|2.3|hv|Hawaii region, Hawaii\n",
      "hv19703522|1970-10-25T23:21:52.630|19.3788333|-155.8381667|37.455|hv|hv|hv|hv19703522|||hv|Hawaii region, Hawaii\n",
      "hv19703521|1970-10-25T20:53:29.380|19.3955|-155.2613333|0.516|hv|hv|hv|hv19703521|ml|1.07|hv|Hawaii region, Hawaii\n",
      "hv19703520|1970-10-25T20:16:32.290|19.3433333|-155.1396667|6.519|hv|hv|hv|hv19703520|ml|1.78|hv|Hawaii region, Hawaii\n",
      "hv19703519|1970-10-25T19:55:28.080|21.0795|-156.7811667|2.51|hv|hv|hv|hv19703519|ml|4.93|hv|Maui region, Hawaii\n",
      "hv19703518|1970-10-25T19:31:52.100|19.6201667|-155.2348333|11.423|hv|hv|hv|hv19703518|ml|1.9|hv|Hawaii region, Hawaii\n",
      "hv19703517|1970-10-25T19:12:13.530|19.3258333|-155.2478333|35.324|hv|hv|hv|hv19703517|||hv|Hawaii region, Hawaii\n",
      "hv19703516|1970-10-25T18:32:53.700|19.3486667|-155.2285|30.991|hv|hv|hv|hv19703516|ml|4.21|hv|Hawaii region, Hawaii\n",
      "\n"
     ]
    }
   ],
   "source": [
    "key = 'grajohnt'\n",
    "qurl = 'https://kata.geosci.ai/challenge/birthquakes?key='+key \n",
    "r = requests.get(qurl)\n",
    "raw = r.text\n",
    "print(raw)"
   ]
  },
  {
   "cell_type": "code",
   "execution_count": 95,
   "metadata": {},
   "outputs": [
    {
     "data": {
      "text/plain": [
       "23"
      ]
     },
     "execution_count": 95,
     "metadata": {},
     "output_type": "execute_result"
    }
   ],
   "source": [
    "question = 1\n",
    "# 1. How many records (i.e. earthquakes) are there?\n",
    "\n",
    "# Bring into a Pandas Dataframe and read the first value of .shape\n",
    "\n",
    "from io import StringIO\n",
    "import pandas as pd\n",
    "\n",
    "eqs = pd.read_csv(StringIO(raw), sep=\"|\", header=0)\n",
    "eqs.shape[0]"
   ]
  },
  {
   "cell_type": "code",
   "execution_count": 96,
   "metadata": {},
   "outputs": [
    {
     "name": "stdout",
     "output_type": "stream",
     "text": [
      "https://kata.geosci.ai/challenge/birthquakes?key=grajohnt&question=1&answer=23\n",
      "Correct\n"
     ]
    }
   ],
   "source": [
    "# Submit\n",
    "\n",
    "aurl = qurl+'&question='+str(question)+'&answer='+str(eqs.shape[0])\n",
    "print(aurl)\n",
    "r = requests.get(aurl)\n",
    "print(r.text)"
   ]
  },
  {
   "cell_type": "code",
   "execution_count": 97,
   "metadata": {},
   "outputs": [
    {
     "data": {
      "text/html": [
       "<div>\n",
       "<style scoped>\n",
       "    .dataframe tbody tr th:only-of-type {\n",
       "        vertical-align: middle;\n",
       "    }\n",
       "\n",
       "    .dataframe tbody tr th {\n",
       "        vertical-align: top;\n",
       "    }\n",
       "\n",
       "    .dataframe thead th {\n",
       "        text-align: right;\n",
       "    }\n",
       "</style>\n",
       "<table border=\"1\" class=\"dataframe\">\n",
       "  <thead>\n",
       "    <tr style=\"text-align: right;\">\n",
       "      <th></th>\n",
       "      <th>#EventID</th>\n",
       "      <th>Time</th>\n",
       "      <th>Latitude</th>\n",
       "      <th>Longitude</th>\n",
       "      <th>Depth/km</th>\n",
       "      <th>Author</th>\n",
       "      <th>Catalog</th>\n",
       "      <th>Contributor</th>\n",
       "      <th>ContributorID</th>\n",
       "      <th>MagType</th>\n",
       "      <th>Magnitude</th>\n",
       "      <th>MagAuthor</th>\n",
       "      <th>EventLocationName</th>\n",
       "    </tr>\n",
       "  </thead>\n",
       "  <tbody>\n",
       "    <tr>\n",
       "      <th>0</th>\n",
       "      <td>hv19703537</td>\n",
       "      <td>1970-10-26T17:06:06.420</td>\n",
       "      <td>19.378500</td>\n",
       "      <td>-154.819500</td>\n",
       "      <td>36.169</td>\n",
       "      <td>hv</td>\n",
       "      <td>hv</td>\n",
       "      <td>hv</td>\n",
       "      <td>hv19703537</td>\n",
       "      <td>ml</td>\n",
       "      <td>1.76</td>\n",
       "      <td>hv</td>\n",
       "      <td>Hawaii region, Hawaii</td>\n",
       "    </tr>\n",
       "    <tr>\n",
       "      <th>1</th>\n",
       "      <td>hv19703536</td>\n",
       "      <td>1970-10-26T13:02:17.860</td>\n",
       "      <td>19.829500</td>\n",
       "      <td>-155.255500</td>\n",
       "      <td>-1.285</td>\n",
       "      <td>hv</td>\n",
       "      <td>hv</td>\n",
       "      <td>hv</td>\n",
       "      <td>hv19703536</td>\n",
       "      <td>ml</td>\n",
       "      <td>1.86</td>\n",
       "      <td>hv</td>\n",
       "      <td>Hawaii region, Hawaii</td>\n",
       "    </tr>\n",
       "    <tr>\n",
       "      <th>2</th>\n",
       "      <td>hv19703535</td>\n",
       "      <td>1970-10-26T11:05:51.980</td>\n",
       "      <td>19.411833</td>\n",
       "      <td>-155.280833</td>\n",
       "      <td>2.481</td>\n",
       "      <td>hv</td>\n",
       "      <td>hv</td>\n",
       "      <td>hv</td>\n",
       "      <td>hv19703535</td>\n",
       "      <td>ml</td>\n",
       "      <td>1.73</td>\n",
       "      <td>hv</td>\n",
       "      <td>Hawaii region, Hawaii</td>\n",
       "    </tr>\n",
       "    <tr>\n",
       "      <th>3</th>\n",
       "      <td>hv19703534</td>\n",
       "      <td>1970-10-26T10:39:51.880</td>\n",
       "      <td>19.458500</td>\n",
       "      <td>-155.256500</td>\n",
       "      <td>-1.193</td>\n",
       "      <td>hv</td>\n",
       "      <td>hv</td>\n",
       "      <td>hv</td>\n",
       "      <td>hv19703534</td>\n",
       "      <td>ml</td>\n",
       "      <td>2.17</td>\n",
       "      <td>hv</td>\n",
       "      <td>Hawaii region, Hawaii</td>\n",
       "    </tr>\n",
       "    <tr>\n",
       "      <th>4</th>\n",
       "      <td>ci3323604</td>\n",
       "      <td>1970-10-26T06:53:51.260</td>\n",
       "      <td>33.016167</td>\n",
       "      <td>-116.395833</td>\n",
       "      <td>6.000</td>\n",
       "      <td>ci</td>\n",
       "      <td>ci</td>\n",
       "      <td>ci</td>\n",
       "      <td>ci3323604</td>\n",
       "      <td>ml</td>\n",
       "      <td>3.19</td>\n",
       "      <td>ci</td>\n",
       "      <td>20km ESE of Julian, CA</td>\n",
       "    </tr>\n",
       "  </tbody>\n",
       "</table>\n",
       "</div>"
      ],
      "text/plain": [
       "     #EventID                     Time   Latitude   Longitude  Depth/km  \\\n",
       "0  hv19703537  1970-10-26T17:06:06.420  19.378500 -154.819500    36.169   \n",
       "1  hv19703536  1970-10-26T13:02:17.860  19.829500 -155.255500    -1.285   \n",
       "2  hv19703535  1970-10-26T11:05:51.980  19.411833 -155.280833     2.481   \n",
       "3  hv19703534  1970-10-26T10:39:51.880  19.458500 -155.256500    -1.193   \n",
       "4   ci3323604  1970-10-26T06:53:51.260  33.016167 -116.395833     6.000   \n",
       "\n",
       "  Author Catalog Contributor ContributorID MagType  Magnitude MagAuthor  \\\n",
       "0     hv      hv          hv    hv19703537      ml       1.76        hv   \n",
       "1     hv      hv          hv    hv19703536      ml       1.86        hv   \n",
       "2     hv      hv          hv    hv19703535      ml       1.73        hv   \n",
       "3     hv      hv          hv    hv19703534      ml       2.17        hv   \n",
       "4     ci      ci          ci     ci3323604      ml       3.19        ci   \n",
       "\n",
       "        EventLocationName  \n",
       "0   Hawaii region, Hawaii  \n",
       "1   Hawaii region, Hawaii  \n",
       "2   Hawaii region, Hawaii  \n",
       "3   Hawaii region, Hawaii  \n",
       "4  20km ESE of Julian, CA  "
      ]
     },
     "execution_count": 97,
     "metadata": {},
     "output_type": "execute_result"
    }
   ],
   "source": [
    "# Just to see what it looks like\n",
    "\n",
    "eqs[0:5]"
   ]
  },
  {
   "cell_type": "code",
   "execution_count": 98,
   "metadata": {},
   "outputs": [
    {
     "data": {
      "text/plain": [
       "2510"
      ]
     },
     "execution_count": 98,
     "metadata": {},
     "output_type": "execute_result"
    }
   ],
   "source": [
    "question = 2\n",
    "#2. What is the depth **in metres** of the earthquake with the largest **Magnitude**? (If there's more than one, give the deepest.)\n",
    "\n",
    "# Find the row where magnitude is max...\n",
    "eq = eqs[eqs.Magnitude == eqs.Magnitude.max()]\n",
    "\n",
    "# ...then pull depth out of that row. Is there a way to make this a one-liner?\n",
    "int(eq['Depth/km']*1000)"
   ]
  },
  {
   "cell_type": "code",
   "execution_count": 99,
   "metadata": {},
   "outputs": [
    {
     "name": "stdout",
     "output_type": "stream",
     "text": [
      "https://kata.geosci.ai/challenge/birthquakes?key=grajohnt&question=2&answer=2510\n",
      "Correct\n"
     ]
    }
   ],
   "source": [
    "# Submit\n",
    "\n",
    "aurl = qurl+'&question='+str(question)+'&answer='+str(int(eq['Depth/km']*1000))\n",
    "print(aurl)\n",
    "r = requests.get(aurl)\n",
    "print(r.text)"
   ]
  },
  {
   "cell_type": "code",
   "execution_count": 100,
   "metadata": {},
   "outputs": [],
   "source": [
    "question = 3\n",
    "# 3. What is the great circle distance **to the nearest km**, as given by the haversine formula, between the epicentres of the two **largest** earthquakes, as measured by magnitude?\n",
    "\n",
    "# Should I really be this lazy? Yes.\n",
    "from haversine import haversine\n",
    "dist = int(round(haversine((eqs.nlargest(2,'Magnitude')['Latitude'].iloc[0],eqs.nlargest(2,'Magnitude')['Longitude'].iloc[0]),(eqs.nlargest(2,'Magnitude')['Latitude'].iloc[1],eqs.nlargest(2,'Magnitude')['Longitude'].iloc[1])),0))\n"
   ]
  },
  {
   "cell_type": "code",
   "execution_count": 101,
   "metadata": {},
   "outputs": [
    {
     "name": "stdout",
     "output_type": "stream",
     "text": [
      "https://kata.geosci.ai/challenge/birthquakes?key=grajohnt&question=3&answer=252\n",
      "Correct\n"
     ]
    }
   ],
   "source": [
    "# Submit\n",
    "\n",
    "aurl = qurl+'&question='+str(question)+'&answer='+str(dist)\n",
    "print(aurl)\n",
    "r = requests.get(aurl)\n",
    "print(r.text)"
   ]
  },
  {
   "cell_type": "code",
   "execution_count": 102,
   "metadata": {},
   "outputs": [
    {
     "name": "stdout",
     "output_type": "stream",
     "text": [
      "209\n"
     ]
    }
   ],
   "source": [
    "question = 4\n",
    "# 4. Consider all pairs of events. How many pairs are less than 100 km of each other? (Exactly 100 km would **not** be included.)\n",
    "\n",
    "# Create a list of just lat/long columns, then use itertools.combinations to find all pairs.\n",
    "#  Then compute haversine distance on each combination, and check which ones are < 100.\n",
    "\n",
    "from itertools import combinations\n",
    "ans = len([i for i in [haversine(p1,p2) for p1,p2 in combinations(list(zip(eqs.Latitude, eqs.Longitude)),2)] if i<100])\n",
    "print(ans)"
   ]
  },
  {
   "cell_type": "code",
   "execution_count": 103,
   "metadata": {},
   "outputs": [
    {
     "name": "stdout",
     "output_type": "stream",
     "text": [
      "https://kata.geosci.ai/challenge/birthquakes?key=grajohnt&question=4&answer=209\n",
      "Correct! The next challenge is: https://kata.geosci.ai/challenge/fossil-hunting - good luck!\n"
     ]
    }
   ],
   "source": [
    "# Submit\n",
    "\n",
    "aurl = qurl+'&question='+str(question)+'&answer='+str(ans)\n",
    "print(aurl)\n",
    "r = requests.get(aurl)\n",
    "print(r.text)"
   ]
  },
  {
   "cell_type": "code",
   "execution_count": null,
   "metadata": {},
   "outputs": [],
   "source": []
  }
 ],
 "metadata": {
  "kernelspec": {
   "display_name": "Python 3",
   "language": "python",
   "name": "python3"
  },
  "language_info": {
   "codemirror_mode": {
    "name": "ipython",
    "version": 3
   },
   "file_extension": ".py",
   "mimetype": "text/x-python",
   "name": "python",
   "nbconvert_exporter": "python",
   "pygments_lexer": "ipython3",
   "version": "3.8.0"
  }
 },
 "nbformat": 4,
 "nbformat_minor": 4
}
